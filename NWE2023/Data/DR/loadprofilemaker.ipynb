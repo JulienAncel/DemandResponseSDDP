{
 "cells": [
  {
   "cell_type": "code",
   "execution_count": 1,
   "id": "e4fa89ef",
   "metadata": {},
   "outputs": [],
   "source": [
    "import numpy as np\n",
    "import matplotlib.pyplot as plt\n",
    "import pandas as pd"
   ]
  },
  {
   "cell_type": "code",
   "execution_count": 2,
   "id": "7417fdcc",
   "metadata": {},
   "outputs": [],
   "source": [
    "year = 168*52\n",
    "debete = 24*90+1\n",
    "finete = year-debete"
   ]
  },
  {
   "cell_type": "markdown",
   "id": "54316e40",
   "metadata": {},
   "source": [
    "# Shedding"
   ]
  },
  {
   "cell_type": "markdown",
   "id": "44e8420d",
   "metadata": {},
   "source": [
    "## Steel industry - shedding"
   ]
  },
  {
   "cell_type": "code",
   "execution_count": 3,
   "id": "28e8de6a",
   "metadata": {},
   "outputs": [],
   "source": [
    "def dr_indus(Wyear,frev,sutil,smax,smin):\n",
    "    return (smax-smin)*Wyear/(8760*(1-frev)*sutil) *1e3"
   ]
  },
  {
   "cell_type": "code",
   "execution_count": 4,
   "id": "b4fe9945",
   "metadata": {},
   "outputs": [
    {
     "data": {
      "text/plain": [
       "[411, 2221.821677481375, 4, 50]"
      ]
     },
     "execution_count": 4,
     "metadata": {},
     "output_type": "execute_result"
    }
   ],
   "source": [
    "#2020\n",
    "Aturbsteel = np.ones(year)\n",
    "# DE + LU + BEL + NL + FR\n",
    "capasteel = dr_indus(10277+1893+1694+109+4517,0.05,1,1,0)\n",
    "prix = 411\n",
    "duree = 4 #h\n",
    "Nact = 50\n",
    "caracsteel = [prix,capasteel,duree,Nact]\n",
    "caracsteel"
   ]
  },
  {
   "cell_type": "code",
   "execution_count": 5,
   "id": "a72f771f",
   "metadata": {},
   "outputs": [
    {
     "data": {
      "image/png": "[encoded data removed]",
      "text/plain": [
       "<Figure size 360x72 with 1 Axes>"
      ]
     },
     "metadata": {
      "needs_background": "light"
     },
     "output_type": "display_data"
    }
   ],
   "source": [
    "plt.figure(figsize=(5,1))\n",
    "plt.plot(Aturbsteel,label=\"Available reduction\",color='red')\n",
    "#plt.ylabel(\"% of installed capacity\")\n",
    "plt.xlabel(\"Hours\")\n",
    "plt.ylim((0,1.01))\n",
    "#plt.legend(loc='upper right')\n",
    "plt.show()"
   ]
  },
  {
   "cell_type": "markdown",
   "id": "facd1ab6",
   "metadata": {},
   "source": [
    "## Aluminium industry"
   ]
  },
  {
   "cell_type": "code",
   "execution_count": 6,
   "id": "22875c4a",
   "metadata": {},
   "outputs": [
    {
     "data": {
      "text/plain": [
       "[164, 447.22928445844246, 4, 50]"
      ]
     },
     "execution_count": 6,
     "metadata": {},
     "output_type": "execute_result"
    }
   ],
   "source": [
    "#2020\n",
    "Aturbalu = np.ones(year)\n",
    "capaalu = dr_indus(7861+0+0+1254+5028,0.05,0.95,1,0.75)\n",
    "prix = 164\n",
    "duree = 4 #h\n",
    "Nact = 50\n",
    "caracalu = [prix,capaalu,duree,Nact]\n",
    "caracalu"
   ]
  },
  {
   "cell_type": "code",
   "execution_count": 7,
   "id": "58050b8e",
   "metadata": {},
   "outputs": [
    {
     "data": {
      "image/png": "[encoded data removed]",
      "text/plain": [
       "<Figure size 360x72 with 1 Axes>"
      ]
     },
     "metadata": {
      "needs_background": "light"
     },
     "output_type": "display_data"
    }
   ],
   "source": [
    "plt.figure(figsize=(5,1))\n",
    "plt.plot(Aturbalu,label=\"Available reduction\",color='red')\n",
    "#plt.ylabel(\"% of installed capacity\")\n",
    "plt.xlabel(\"Hours\")\n",
    "plt.ylim((0,1.01))\n",
    "#plt.legend(loc='upper right')\n",
    "plt.show()"
   ]
  },
  {
   "cell_type": "markdown",
   "id": "95a081d3",
   "metadata": {},
   "source": [
    "## Chlorine industry"
   ]
  },
  {
   "cell_type": "code",
   "execution_count": 8,
   "id": "3758bbbb",
   "metadata": {},
   "outputs": [
    {
     "data": {
      "text/plain": [
       "[96, 1365.8407012484347, 4, 50]"
      ]
     },
     "execution_count": 8,
     "metadata": {},
     "output_type": "execute_result"
    }
   ],
   "source": [
    "#2020\n",
    "Aturbchlorine = np.ones(year)\n",
    "capachlorine = dr_indus(10622+0+2310+1631+3434,0.05,0.95,1,0.4) #MW\n",
    "prix = 96\n",
    "duree = 4 #h\n",
    "Nact = 50\n",
    "caracchlor = [prix,capachlorine,duree,Nact]\n",
    "caracchlor"
   ]
  },
  {
   "cell_type": "code",
   "execution_count": 9,
   "id": "7ad6e12e",
   "metadata": {},
   "outputs": [
    {
     "data": {
      "image/png": "[encoded data removed]",
      "text/plain": [
       "<Figure size 360x72 with 1 Axes>"
      ]
     },
     "metadata": {
      "needs_background": "light"
     },
     "output_type": "display_data"
    }
   ],
   "source": [
    "plt.figure(figsize=(5,1))\n",
    "plt.plot(Aturbchlorine,label=\"Available reduction\",color='red')\n",
    "#plt.ylabel(\"% of installed capacity\")\n",
    "plt.xlabel(\"Hours\")\n",
    "plt.ylim((0,1.01))\n",
    "#plt.legend(loc='upper right')\n",
    "plt.show()"
   ]
  },
  {
   "cell_type": "code",
   "execution_count": 10,
   "id": "db15842a",
   "metadata": {
    "scrolled": true
   },
   "outputs": [],
   "source": [
    "df_avail_shedding = pd.DataFrame({\"Tech. 0\":Aturbsteel,\"Tech. 1\":Aturbalu,\"Tech. 2\":Aturbchlorine})\n",
    "df_avail_shedding.to_csv(\"loadshedding_availability.csv\")"
   ]
  },
  {
   "cell_type": "code",
   "execution_count": 11,
   "id": "92020356",
   "metadata": {},
   "outputs": [
    {
     "data": {
      "text/html": [
       "<div>\n",
       "<style scoped>\n",
       "    .dataframe tbody tr th:only-of-type {\n",
       "        vertical-align: middle;\n",
       "    }\n",
       "\n",
       "    .dataframe tbody tr th {\n",
       "        vertical-align: top;\n",
       "    }\n",
       "\n",
       "    .dataframe thead th {\n",
       "        text-align: right;\n",
       "    }\n",
       "</style>\n",
       "<table border=\"1\" class=\"dataframe\">\n",
       "  <thead>\n",
       "    <tr style=\"text-align: right;\">\n",
       "      <th></th>\n",
       "      <th>PrixAct</th>\n",
       "      <th>CapaInst</th>\n",
       "      <th>Duree</th>\n",
       "      <th>NAct</th>\n",
       "    </tr>\n",
       "  </thead>\n",
       "  <tbody>\n",
       "    <tr>\n",
       "      <th>Steel</th>\n",
       "      <td>411.0</td>\n",
       "      <td>2221.821677</td>\n",
       "      <td>4.0</td>\n",
       "      <td>50.0</td>\n",
       "    </tr>\n",
       "    <tr>\n",
       "      <th>Aluminium</th>\n",
       "      <td>164.0</td>\n",
       "      <td>447.229284</td>\n",
       "      <td>4.0</td>\n",
       "      <td>50.0</td>\n",
       "    </tr>\n",
       "    <tr>\n",
       "      <th>Chlorine</th>\n",
       "      <td>96.0</td>\n",
       "      <td>1365.840701</td>\n",
       "      <td>4.0</td>\n",
       "      <td>50.0</td>\n",
       "    </tr>\n",
       "  </tbody>\n",
       "</table>\n",
       "</div>"
      ],
      "text/plain": [
       "           PrixAct     CapaInst  Duree  NAct\n",
       "Steel        411.0  2221.821677    4.0  50.0\n",
       "Aluminium    164.0   447.229284    4.0  50.0\n",
       "Chlorine      96.0  1365.840701    4.0  50.0"
      ]
     },
     "execution_count": 11,
     "metadata": {},
     "output_type": "execute_result"
    }
   ],
   "source": [
    "df_carac_shed = pd.DataFrame({\"Steel\":caracsteel,\n",
    "                             \"Aluminium\":caracalu,\n",
    "                             \"Chlorine\":caracchlor}, \n",
    "                             index = [\"PrixAct\",\"CapaInst\",\"Duree\",\"NAct\"])\n",
    "bon = df_carac_shed.T\n",
    "bon"
   ]
  },
  {
   "cell_type": "code",
   "execution_count": 12,
   "id": "d7f42183",
   "metadata": {},
   "outputs": [],
   "source": [
    "bon.to_csv(\"carac_shedding.csv\")"
   ]
  },
  {
   "cell_type": "code",
   "execution_count": 13,
   "id": "91ba0088",
   "metadata": {},
   "outputs": [
    {
     "data": {
      "text/html": [
       "<div>\n",
       "<style scoped>\n",
       "    .dataframe tbody tr th:only-of-type {\n",
       "        vertical-align: middle;\n",
       "    }\n",
       "\n",
       "    .dataframe tbody tr th {\n",
       "        vertical-align: top;\n",
       "    }\n",
       "\n",
       "    .dataframe thead th {\n",
       "        text-align: right;\n",
       "    }\n",
       "</style>\n",
       "<table border=\"1\" class=\"dataframe\">\n",
       "  <thead>\n",
       "    <tr style=\"text-align: right;\">\n",
       "      <th></th>\n",
       "      <th>PrixAct</th>\n",
       "      <th>CapaInst</th>\n",
       "      <th>Duree</th>\n",
       "      <th>NAct</th>\n",
       "      <th>ResSize</th>\n",
       "    </tr>\n",
       "  </thead>\n",
       "  <tbody>\n",
       "    <tr>\n",
       "      <th>Steel</th>\n",
       "      <td>411.0</td>\n",
       "      <td>2221.821677</td>\n",
       "      <td>4.0</td>\n",
       "      <td>50.0</td>\n",
       "      <td>444364.335496</td>\n",
       "    </tr>\n",
       "    <tr>\n",
       "      <th>Aluminium</th>\n",
       "      <td>164.0</td>\n",
       "      <td>447.229284</td>\n",
       "      <td>4.0</td>\n",
       "      <td>50.0</td>\n",
       "      <td>89445.856892</td>\n",
       "    </tr>\n",
       "    <tr>\n",
       "      <th>Chlorine</th>\n",
       "      <td>96.0</td>\n",
       "      <td>1365.840701</td>\n",
       "      <td>4.0</td>\n",
       "      <td>50.0</td>\n",
       "      <td>273168.140250</td>\n",
       "    </tr>\n",
       "  </tbody>\n",
       "</table>\n",
       "</div>"
      ],
      "text/plain": [
       "           PrixAct     CapaInst  Duree  NAct        ResSize\n",
       "Steel        411.0  2221.821677    4.0  50.0  444364.335496\n",
       "Aluminium    164.0   447.229284    4.0  50.0   89445.856892\n",
       "Chlorine      96.0  1365.840701    4.0  50.0  273168.140250"
      ]
     },
     "execution_count": 13,
     "metadata": {},
     "output_type": "execute_result"
    }
   ],
   "source": [
    "bon['ResSize'] = bon['NAct'] * bon['CapaInst'] * bon['Duree']\n",
    "bon"
   ]
  },
  {
   "cell_type": "code",
   "execution_count": 14,
   "id": "a1f1e6ad",
   "metadata": {},
   "outputs": [],
   "source": [
    "cmoy = []\n",
    "for i,tech in enumerate(list(bon.index)):\n",
    "    cmoy.append(np.mean(bon['CapaInst'].loc[tech] * np.array(df_avail_shedding[\"Tech. %s\"%i])))"
   ]
  },
  {
   "cell_type": "code",
   "execution_count": 15,
   "id": "0ee77e6c",
   "metadata": {},
   "outputs": [
    {
     "data": {
      "text/html": [
       "<div>\n",
       "<style scoped>\n",
       "    .dataframe tbody tr th:only-of-type {\n",
       "        vertical-align: middle;\n",
       "    }\n",
       "\n",
       "    .dataframe tbody tr th {\n",
       "        vertical-align: top;\n",
       "    }\n",
       "\n",
       "    .dataframe thead th {\n",
       "        text-align: right;\n",
       "    }\n",
       "</style>\n",
       "<table border=\"1\" class=\"dataframe\">\n",
       "  <thead>\n",
       "    <tr style=\"text-align: right;\">\n",
       "      <th></th>\n",
       "      <th>PrixAct</th>\n",
       "      <th>CapaInst</th>\n",
       "      <th>Duree</th>\n",
       "      <th>NAct</th>\n",
       "      <th>ResSize</th>\n",
       "      <th>CapaMoy</th>\n",
       "    </tr>\n",
       "  </thead>\n",
       "  <tbody>\n",
       "    <tr>\n",
       "      <th>Steel</th>\n",
       "      <td>411.0</td>\n",
       "      <td>2221.821677</td>\n",
       "      <td>4.0</td>\n",
       "      <td>50.0</td>\n",
       "      <td>444364.335496</td>\n",
       "      <td>2221.821677</td>\n",
       "    </tr>\n",
       "    <tr>\n",
       "      <th>Aluminium</th>\n",
       "      <td>164.0</td>\n",
       "      <td>447.229284</td>\n",
       "      <td>4.0</td>\n",
       "      <td>50.0</td>\n",
       "      <td>89445.856892</td>\n",
       "      <td>447.229284</td>\n",
       "    </tr>\n",
       "    <tr>\n",
       "      <th>Chlorine</th>\n",
       "      <td>96.0</td>\n",
       "      <td>1365.840701</td>\n",
       "      <td>4.0</td>\n",
       "      <td>50.0</td>\n",
       "      <td>273168.140250</td>\n",
       "      <td>1365.840701</td>\n",
       "    </tr>\n",
       "  </tbody>\n",
       "</table>\n",
       "</div>"
      ],
      "text/plain": [
       "           PrixAct     CapaInst  Duree  NAct        ResSize      CapaMoy\n",
       "Steel        411.0  2221.821677    4.0  50.0  444364.335496  2221.821677\n",
       "Aluminium    164.0   447.229284    4.0  50.0   89445.856892   447.229284\n",
       "Chlorine      96.0  1365.840701    4.0  50.0  273168.140250  1365.840701"
      ]
     },
     "execution_count": 15,
     "metadata": {},
     "output_type": "execute_result"
    }
   ],
   "source": [
    "bon['CapaMoy'] = cmoy\n",
    "bon"
   ]
  },
  {
   "cell_type": "markdown",
   "id": "9d2a24a4",
   "metadata": {},
   "source": [
    "# Shifting"
   ]
  },
  {
   "cell_type": "markdown",
   "id": "aaedd681",
   "metadata": {},
   "source": [
    "## Cement industry"
   ]
  },
  {
   "cell_type": "code",
   "execution_count": 16,
   "id": "fe29b13d",
   "metadata": {},
   "outputs": [],
   "source": [
    "weekend = [1 for i in range(24)]\n",
    "weekdays = [1,1,1,1,1,1,0.95,0.85,0.75,0.7,0.66,0.66,0.66,0.75,0.75,0.75,0.66,0.7,0.85,0.95,1,1,1,1]\n",
    "winter = 1\n",
    "summer = 0.8"
   ]
  },
  {
   "cell_type": "code",
   "execution_count": 17,
   "id": "38e157ab",
   "metadata": {},
   "outputs": [
    {
     "data": {
      "image/png": "[encoded data removed]",
      "text/plain": [
       "<Figure size 360x72 with 1 Axes>"
      ]
     },
     "metadata": {
      "needs_background": "light"
     },
     "output_type": "display_data"
    }
   ],
   "source": [
    "smin = 0.5\n",
    "smax = 1\n",
    "Aturbcement = []\n",
    "Apumpcement = []\n",
    "for h in range(year):\n",
    "    if h < debete or h > finete:\n",
    "        multsaison = 0.8\n",
    "    else:\n",
    "        multsaison = 1\n",
    "    day = h // 24\n",
    "    if day % 7 == 5:\n",
    "        #samedi\n",
    "        d = weekend[h % 24]\n",
    "    elif day % 7 == 6:\n",
    "        #dimanche\n",
    "        d = weekend[h % 24]\n",
    "    else:\n",
    "        #weekdays\n",
    "        d = weekdays[h % 24]\n",
    "\n",
    "    Aturbcement.append(multsaison*(d-smin))\n",
    "    Apumpcement.append(multsaison*(smax-d))\n",
    "plt.figure(figsize=(5,1))\n",
    "plt.plot(Aturbcement[:168],label=\"Available reduction\",color='red')\n",
    "plt.plot(Apumpcement[:168],label=\"Available increase\",color='black')\n",
    "#plt.ylabel(\"% of installed capacity\")\n",
    "plt.xlabel(\"Hours\")\n",
    "plt.ylim((0,1))\n",
    "#plt.legend(loc='upper right')\n",
    "plt.show()"
   ]
  },
  {
   "cell_type": "code",
   "execution_count": 18,
   "id": "8bc3edb5",
   "metadata": {},
   "outputs": [
    {
     "data": {
      "text/plain": [
       "[10, 1083.3934150444604, 3, 260]"
      ]
     },
     "execution_count": 18,
     "metadata": {},
     "output_type": "execute_result"
    }
   ],
   "source": [
    "capacement = dr_indus(4350+150+1062+644+2810,0.05,1,1,0)\n",
    "prix = 10 #euro/MW\n",
    "duree = 3 #h\n",
    "Nact = 260\n",
    "caraccement = [prix,capacement,duree,Nact]\n",
    "caraccement"
   ]
  },
  {
   "cell_type": "markdown",
   "id": "2066e15a",
   "metadata": {},
   "source": [
    "## Paper and pulp"
   ]
  },
  {
   "cell_type": "code",
   "execution_count": 19,
   "id": "0b941021",
   "metadata": {},
   "outputs": [
    {
     "data": {
      "text/plain": [
       "[10, 2062.3167507810626, 3, 260]"
      ]
     },
     "execution_count": 19,
     "metadata": {},
     "output_type": "execute_result"
    }
   ],
   "source": [
    "capulp = dr_indus(2643+0+296+205+10598,0.05,1,1,0)\n",
    "capap = dr_indus(6811+28+993+998+2572,0.05,1,1,0)\n",
    "capaturb = 0.8*capulp + 0.2*capap\n",
    "capapump = 0.2*capulp + 0.1*capap\n",
    "capatot = capaturb + capapump\n",
    "availturb = capaturb/capatot\n",
    "availpump = capapump/capatot\n",
    "Aturbpaper = availturb*np.ones(year)\n",
    "Apumppaper = availpump*np.ones(year)\n",
    "prix = 10 #euro/MW\n",
    "duree = 3 #h\n",
    "Nact = 260\n",
    "caracpaper = [prix,capatot,duree,Nact]\n",
    "caracpaper"
   ]
  },
  {
   "cell_type": "code",
   "execution_count": 20,
   "id": "4fc19782",
   "metadata": {},
   "outputs": [
    {
     "data": {
      "image/png": "[encoded data removed]",
      "text/plain": [
       "<Figure size 360x72 with 1 Axes>"
      ]
     },
     "metadata": {
      "needs_background": "light"
     },
     "output_type": "display_data"
    }
   ],
   "source": [
    "plt.figure(figsize=(5,1))\n",
    "plt.plot(Aturbpaper,label=\"Available reduction\",color='red')\n",
    "plt.plot(Apumppaper,label=\"Available increase\",color='black')\n",
    "#plt.ylabel(\"% of installed capacity\")\n",
    "plt.xlabel(\"Hours\")\n",
    "plt.ylim((0,1))\n",
    "#plt.legend(loc='upper right')\n",
    "plt.show()"
   ]
  },
  {
   "cell_type": "markdown",
   "id": "1de233e5",
   "metadata": {},
   "source": [
    "## Industrial cooling"
   ]
  },
  {
   "cell_type": "code",
   "execution_count": 21,
   "id": "1dff3744",
   "metadata": {},
   "outputs": [
    {
     "data": {
      "text/plain": [
       "[16, 3166.095890410959, 1, 364]"
      ]
     },
     "execution_count": 21,
     "metadata": {},
     "output_type": "execute_result"
    }
   ],
   "source": [
    "capainduscool = (10277+1893+1694+109+4517)/5840 * 1e3\n",
    "prix = 16 #euro/MW\n",
    "duree = 1 #h\n",
    "Nact = 364\n",
    "caracindcool = [prix,capainduscool,duree,Nact]\n",
    "caracindcool"
   ]
  },
  {
   "cell_type": "code",
   "execution_count": 22,
   "id": "ec25f3ef",
   "metadata": {},
   "outputs": [],
   "source": [
    "Aturbindcool = []\n",
    "Apumpindcool = []\n",
    "intraday = [0.85,0.9,1,1,1,0.85,0.7,0.5,0.5,0.5,0.5,0.55,0.55,0.6,0.65,0.7,0.75,0.7,0.6,0.6,0.8,0.95,0.95,0.95]\n",
    "for h in range(year):\n",
    "    if h < debete or h > finete:\n",
    "        multsaison = 0.9\n",
    "    else:\n",
    "        multsaison = 1\n",
    "    day = h // 24\n",
    "    if day % 7 == 5:\n",
    "        #samedi\n",
    "        d = 0.95\n",
    "    elif day % 7 == 6:\n",
    "        #dimanche\n",
    "        d = 0.9\n",
    "    else:\n",
    "        #weekdays\n",
    "        d = 1\n",
    "    intra = intraday[h % 24]\n",
    "    Aturbindcool.append(0.5*multsaison*d*intra)\n",
    "    Apumpindcool.append(0.1*(1-multsaison*d*intra))"
   ]
  },
  {
   "cell_type": "code",
   "execution_count": 23,
   "id": "ac8f743b",
   "metadata": {},
   "outputs": [
    {
     "data": {
      "image/png": "[encoded data removed]",
      "text/plain": [
       "<Figure size 360x72 with 1 Axes>"
      ]
     },
     "metadata": {
      "needs_background": "light"
     },
     "output_type": "display_data"
    }
   ],
   "source": [
    "plt.figure(figsize=(5,1))\n",
    "plt.plot(Aturbindcool[:168],label=\"Available reduction\",color='red')\n",
    "plt.plot(Apumpindcool[:168],label=\"Available increase\",color='black')\n",
    "#plt.ylabel(\"% of installed capacity\")\n",
    "plt.xlabel(\"Hours\")\n",
    "plt.ylim((0,1))\n",
    "#plt.legend(loc='upper right')\n",
    "plt.show()"
   ]
  },
  {
   "cell_type": "markdown",
   "id": "48e7759a",
   "metadata": {},
   "source": [
    "## Cross-tech Ventilation"
   ]
  },
  {
   "cell_type": "code",
   "execution_count": 24,
   "id": "08947a62",
   "metadata": {},
   "outputs": [
    {
     "data": {
      "text/plain": [
       "[16, 692.6369863013698, 1, 364]"
      ]
     },
     "execution_count": 24,
     "metadata": {},
     "output_type": "execute_result"
    }
   ],
   "source": [
    "capavent = (2574+78+278+328+1596)/7008 * 1e3\n",
    "prix = 16 #euro/MW\n",
    "duree = 1 #h\n",
    "Nact = 364\n",
    "caracvent = [prix,capavent,duree,Nact]\n",
    "caracvent"
   ]
  },
  {
   "cell_type": "code",
   "execution_count": 25,
   "id": "f8cd57fb",
   "metadata": {},
   "outputs": [],
   "source": [
    "Aturbvent = []\n",
    "Apumpvent = []\n",
    "for h in range(year):\n",
    "    day = h // 24\n",
    "    if day % 7 == 5:\n",
    "        #samedi\n",
    "        d = 0.6\n",
    "    elif day % 7 == 6:\n",
    "        #dimanche\n",
    "        d = 0.5\n",
    "    else:\n",
    "        #weekdays\n",
    "        d = 1\n",
    "    Aturbvent.append(0.5*d)\n",
    "    Apumpvent.append(0.1*(1-d))"
   ]
  },
  {
   "cell_type": "code",
   "execution_count": 26,
   "id": "b269b635",
   "metadata": {},
   "outputs": [
    {
     "data": {
      "image/png": "[encoded data removed]",
      "text/plain": [
       "<Figure size 360x72 with 1 Axes>"
      ]
     },
     "metadata": {
      "needs_background": "light"
     },
     "output_type": "display_data"
    }
   ],
   "source": [
    "plt.figure(figsize=(5,1))\n",
    "plt.plot(Aturbvent[:336],label=\"Available reduction\",color='red')\n",
    "plt.plot(Apumpvent[:336],label=\"Available increase\",color='black')\n",
    "#plt.ylabel(\"% of installed capacity\")\n",
    "plt.xlabel(\"Hours\")\n",
    "plt.ylim((0,1))\n",
    "#plt.legend(loc='upper right')\n",
    "plt.show()"
   ]
  },
  {
   "cell_type": "markdown",
   "id": "5497d856",
   "metadata": {},
   "source": [
    "## Tertiary cooling"
   ]
  },
  {
   "cell_type": "code",
   "execution_count": 27,
   "id": "046e803c",
   "metadata": {},
   "outputs": [
    {
     "data": {
      "image/png": "[encoded data removed]",
      "text/plain": [
       "<Figure size 432x288 with 1 Axes>"
      ]
     },
     "metadata": {
      "needs_background": "light"
     },
     "output_type": "display_data"
    }
   ],
   "source": [
    "pops = {'FR':67422241,'LU':634730,'DE':83129285,'BEL':11431406,'NE':17483925,'tot':67422241+634730+83129285+11431406+17483925}\n",
    "rapports_pop = {}\n",
    "pays = list(pops.keys())[:5]\n",
    "for p in pays:\n",
    "    rapports_pop[p]=pops[p]/pops['tot']\n",
    "rapports_pop\n",
    "numCDDbyp = pd.read_excel('mCDD.xlsx')\n",
    "numHDDbyp = pd.read_excel('mHDD.xlsx')\n",
    "nCDD = np.zeros(364)\n",
    "nHDD = np.zeros(364)\n",
    "for p in pays:\n",
    "    nCDD += np.array(rapports_pop[p]*numCDDbyp[p])\n",
    "    nHDD += np.array(rapports_pop[p]*numHDDbyp[p])\n",
    "plt.plot(nCDD)\n",
    "plt.plot(nHDD)\n",
    "plt.show()"
   ]
  },
  {
   "cell_type": "code",
   "execution_count": 28,
   "id": "08b1e347",
   "metadata": {},
   "outputs": [
    {
     "name": "stdout",
     "output_type": "stream",
     "text": [
      "510.7915688710093\n"
     ]
    }
   ],
   "source": [
    "print(np.sum(nCDD))\n",
    "nflhAC = 500\n",
    "shareACincomDem = 0.045\n",
    "nflhretail = 5840 #indé temp\n",
    "nflhresto = 5000 #indé temp\n",
    "nflhcoldsto = 5000 #indé temp"
   ]
  },
  {
   "cell_type": "code",
   "execution_count": 29,
   "id": "e943883c",
   "metadata": {},
   "outputs": [
    {
     "data": {
      "text/plain": [
       "[5192.448947260274, 655.5102]"
      ]
     },
     "execution_count": 29,
     "metadata": {},
     "output_type": "execute_result"
    }
   ],
   "source": [
    "Wcommerce = 161970*1e3 + 2580*1e3 + 146460*1e3 + 26100*1e3 + 39620*1e3#MWh\n",
    "\n",
    "#food retail+hotels/restau, storage\n",
    "capaappli = [ 0.087*0.75*Wcommerce/nflhretail + 0.087*0.15*Wcommerce/nflhresto,0.087*0.1*Wcommerce/nflhcoldsto] #MW\n",
    "capaAC =  shareACincomDem*Wcommerce/nflhAC#MW\n",
    "capaappli"
   ]
  },
  {
   "cell_type": "code",
   "execution_count": 30,
   "id": "637891ce",
   "metadata": {},
   "outputs": [
    {
     "data": {
      "text/plain": [
       "33905.7"
      ]
     },
     "execution_count": 30,
     "metadata": {},
     "output_type": "execute_result"
    }
   ],
   "source": [
    "capaAC"
   ]
  },
  {
   "cell_type": "code",
   "execution_count": 31,
   "id": "7c1db603",
   "metadata": {},
   "outputs": [],
   "source": [
    "indaycomcool = [0.80 for i in range(6)]+[0.89]+[1 for i in range(15)]+[0.89,0.80]\n",
    "indaycoldstorage = [0.85,0.9,1,1,1,0.85,0.7,0.5,0.5,0.5,0.5,0.55,0.55,0.6,0.65,0.7,0.75,0.7,0.6,0.6,0.8,0.95,0.95,0.95]"
   ]
  },
  {
   "cell_type": "code",
   "execution_count": 32,
   "id": "db89e3b9",
   "metadata": {},
   "outputs": [],
   "source": [
    "Aturbcomcool = []\n",
    "Apumpcomcool = []\n",
    "for h in range(year):\n",
    "    if h < debete or h > finete:\n",
    "        multsaison = 0.9\n",
    "    else:\n",
    "        multsaison = 1\n",
    "    Aturbcomcool.append(multsaison*indaycomcool[h%24])\n",
    "    Apumpcomcool.append(multsaison*(1-indaycomcool[h%24]))"
   ]
  },
  {
   "cell_type": "code",
   "execution_count": 33,
   "id": "6b82da9d",
   "metadata": {},
   "outputs": [
    {
     "data": {
      "text/plain": [
       "[<matplotlib.lines.Line2D at 0x1f913a2a9a0>]"
      ]
     },
     "execution_count": 33,
     "metadata": {},
     "output_type": "execute_result"
    },
    {
     "data": {
      "image/png": "[encoded data removed]",
      "text/plain": [
       "<Figure size 432x288 with 1 Axes>"
      ]
     },
     "metadata": {
      "needs_background": "light"
     },
     "output_type": "display_data"
    }
   ],
   "source": [
    "plt.plot(Aturbcomcool[:168])\n",
    "plt.plot(Apumpcomcool[:168])"
   ]
  },
  {
   "cell_type": "code",
   "execution_count": 34,
   "id": "14a0e033",
   "metadata": {},
   "outputs": [],
   "source": [
    "Aturbcolsto = []\n",
    "Apumpcolsto = []\n",
    "for h in range(year):\n",
    "    if h < debete or h > finete:\n",
    "        multsaison = 0.9\n",
    "    else:\n",
    "        multsaison = 1\n",
    "    day = h // 24\n",
    "    if day % 7 == 5:\n",
    "        #samedi\n",
    "        d = 0.95\n",
    "    elif day % 7 == 6:\n",
    "        #dimanche\n",
    "        d = 0.9\n",
    "    else:\n",
    "        #weekdays\n",
    "        d = 1\n",
    "    Aturbcolsto.append(multsaison*d*indaycoldstorage[h%24])\n",
    "    Apumpcolsto.append(1-multsaison*d*indaycoldstorage[h%24])"
   ]
  },
  {
   "cell_type": "code",
   "execution_count": 35,
   "id": "c34a607a",
   "metadata": {},
   "outputs": [
    {
     "data": {
      "text/plain": [
       "[<matplotlib.lines.Line2D at 0x1f913b128b0>]"
      ]
     },
     "execution_count": 35,
     "metadata": {},
     "output_type": "execute_result"
    },
    {
     "data": {
      "image/png": "[encoded data removed]",
      "text/plain": [
       "<Figure size 432x288 with 1 Axes>"
      ]
     },
     "metadata": {
      "needs_background": "light"
     },
     "output_type": "display_data"
    }
   ],
   "source": [
    "plt.plot(Aturbcolsto[:168])\n",
    "plt.plot(Apumpcolsto[:168])"
   ]
  },
  {
   "cell_type": "code",
   "execution_count": 36,
   "id": "30192c9f",
   "metadata": {},
   "outputs": [],
   "source": [
    "colddemday = np.zeros(364)\n",
    "for i in range(1,364):\n",
    "    colddemday[i] = ( nCDD[i] + 0.5*nCDD[i-1] ) / (1.5 * np.sum(nCDD))\n",
    "maxcolddemday = np.max(colddemday)\n",
    "\n",
    "usageAC = np.zeros(year)\n",
    "for h in range(year):\n",
    "    day = h // 24\n",
    "    if colddemday[day] > 0.6*maxcolddemday:\n",
    "        usageAC[h] = 0.75\n",
    "    else:\n",
    "        usageAC[h] = 1.25 * colddemday[day]/maxcolddemday\n",
    "coefheure = np.array([12,10,7,5,4,3,7,9,11,15,24,33,46,64,82,95,100,98,84,59,48,32,24,17])/100"
   ]
  },
  {
   "cell_type": "code",
   "execution_count": 37,
   "id": "3b6287c2",
   "metadata": {},
   "outputs": [
    {
     "data": {
      "text/plain": [
       "[<matplotlib.lines.Line2D at 0x1f913bf8850>]"
      ]
     },
     "execution_count": 37,
     "metadata": {},
     "output_type": "execute_result"
    },
    {
     "data": {
      "image/png": "[encoded data removed]",
      "text/plain": [
       "<Figure size 432x288 with 1 Axes>"
      ]
     },
     "metadata": {
      "needs_background": "light"
     },
     "output_type": "display_data"
    }
   ],
   "source": [
    "AturbAC = []\n",
    "ApumpAC = []\n",
    "for h in range(year):\n",
    "    AturbAC.append(usageAC[h]*coefheure[h%24])\n",
    "    ApumpAC.append(1-usageAC[h]*coefheure[h%24] if usageAC[h] > 0.01 else 0)\n",
    "plt.plot(AturbAC)\n",
    "plt.plot(ApumpAC)"
   ]
  },
  {
   "cell_type": "code",
   "execution_count": 64,
   "id": "9cf5cd10",
   "metadata": {},
   "outputs": [
    {
     "data": {
      "image/png": "[encoded data removed]",
      "text/plain": [
       "<Figure size 360x72 with 1 Axes>"
      ]
     },
     "metadata": {
      "needs_background": "light"
     },
     "output_type": "display_data"
    },
    {
     "data": {
      "text/plain": [
       "[11, 39753.659147260274, 1, 364]"
      ]
     },
     "execution_count": 64,
     "metadata": {},
     "output_type": "execute_result"
    }
   ],
   "source": [
    "#On aggrège les trois sources de flexibilité \n",
    "#dans le cooling tertiaire\n",
    "capatertiarycool = capaAC + np.sum(capaappli)\n",
    "Aturbtertiarycool = []\n",
    "Apumptertiarycool = []\n",
    "for h in range(year):\n",
    "    Aturbtertiarycool.append((capaAC*AturbAC[h]+capaappli[0]*Aturbcomcool[h]+capaappli[1]*Aturbcolsto[h])/(capatertiarycool))\n",
    "    Apumptertiarycool.append((capaAC*ApumpAC[h]+capaappli[0]*Apumpcomcool[h]+capaappli[1]*Apumpcolsto[h])/capatertiarycool)\n",
    "\n",
    "\n",
    "plt.figure(figsize=(5,1))\n",
    "plt.plot(Aturbtertiarycool[0:8736],label=\"Available reduction\",color='red')\n",
    "plt.plot(Apumptertiarycool[0:8736],label=\"Available increase\",color='black')\n",
    "#plt.ylabel(\"% of installed capacity\")\n",
    "plt.xlabel(\"Hours\")\n",
    "plt.ylim((0,1))\n",
    "#plt.legend(loc='upper right')\n",
    "plt.show()\n",
    "\n",
    "prix = 11 #euro/MW\n",
    "duree = 1 #h\n",
    "Nact = 364\n",
    "caractertiarycool = [prix,capatertiarycool,duree,Nact]\n",
    "caractertiarycool"
   ]
  },
  {
   "cell_type": "markdown",
   "id": "84c21dc3",
   "metadata": {},
   "source": [
    "## Tertiary heating"
   ]
  },
  {
   "cell_type": "code",
   "execution_count": 39,
   "id": "4bd877de",
   "metadata": {},
   "outputs": [
    {
     "name": "stdout",
     "output_type": "stream",
     "text": [
      "1878.3554742837828\n"
     ]
    }
   ],
   "source": [
    "print(np.sum(nHDD))\n",
    "nflhSH = 450\n",
    "nflhHW = 300"
   ]
  },
  {
   "cell_type": "code",
   "execution_count": 40,
   "id": "00393d02",
   "metadata": {},
   "outputs": [
    {
     "name": "stdout",
     "output_type": "stream",
     "text": [
      "[28206.04129596716, 18836.5]\n"
     ]
    }
   ],
   "source": [
    "shareSH = rapports_pop['FR']*0.05+rapports_pop['DE']*0.02 + (1-rapports_pop['FR']-rapports_pop['DE'])*0.035 #deux grands drivers du groupe\n",
    "capaSH = shareSH*Wcommerce/nflhSH\n",
    "capaHW = 0.015*Wcommerce/nflhHW\n",
    "print([capaSH,capaHW])"
   ]
  },
  {
   "cell_type": "code",
   "execution_count": 41,
   "id": "2070c2de",
   "metadata": {},
   "outputs": [],
   "source": [
    "heatdemday = np.zeros(364)\n",
    "heatdemday[0] = nHDD[0] / np.sum(nHDD)\n",
    "for i in range(1,364):\n",
    "    heatdemday[i] = ( nHDD[i] + 0.5*nHDD[i-1] ) / (1.5 * np.sum(nHDD))\n",
    "maxheatdemday = np.max(heatdemday)\n",
    "usageheat = np.zeros(year)\n",
    "c=0\n",
    "for h in range(year):\n",
    "    day = h // 24\n",
    "    if heatdemday[day] > 0.6*maxheatdemday:\n",
    "        usageheat[h] = 0.75\n",
    "        c+=1\n",
    "    else:\n",
    "        usageheat[h] = 1.25 * heatdemday[day]/maxheatdemday"
   ]
  },
  {
   "cell_type": "code",
   "execution_count": 42,
   "id": "c76ce2e1",
   "metadata": {},
   "outputs": [
    {
     "data": {
      "text/plain": [
       "[<matplotlib.lines.Line2D at 0x1f913d40e50>]"
      ]
     },
     "execution_count": 42,
     "metadata": {},
     "output_type": "execute_result"
    },
    {
     "data": {
      "image/png": "[encoded data removed]",
      "text/plain": [
       "<Figure size 432x288 with 1 Axes>"
      ]
     },
     "metadata": {
      "needs_background": "light"
     },
     "output_type": "display_data"
    }
   ],
   "source": [
    "intradayHWweek = [0.76,0.76,0.75,0.76,0.77,0.81,0.89,0.96,1,0.95,0.9,0.86,0.85,0.83,0.8,0.79,0.77,0.76,0.75,0.74,0.75,0.76,0.77,0.77]\n",
    "intradayHWend = [0.88,0.88,0.88,0.9,0.92,0.92,0.95,0.98,1,0.99,0.97,0.93,0.91,0.89,0.88,0.85,0.84,0.83,0.84,0.83,0.84,0.85,0.87,0.88]\n",
    "plt.plot(intradayHWweek)\n",
    "plt.plot(intradayHWend)"
   ]
  },
  {
   "cell_type": "code",
   "execution_count": 43,
   "id": "a49f878b",
   "metadata": {},
   "outputs": [
    {
     "data": {
      "text/html": [
       "<div>\n",
       "<style scoped>\n",
       "    .dataframe tbody tr th:only-of-type {\n",
       "        vertical-align: middle;\n",
       "    }\n",
       "\n",
       "    .dataframe tbody tr th {\n",
       "        vertical-align: top;\n",
       "    }\n",
       "\n",
       "    .dataframe thead th {\n",
       "        text-align: right;\n",
       "    }\n",
       "</style>\n",
       "<table border=\"1\" class=\"dataframe\">\n",
       "  <thead>\n",
       "    <tr style=\"text-align: right;\">\n",
       "      <th></th>\n",
       "      <th>&lt;0 W</th>\n",
       "      <th>0-5 W</th>\n",
       "      <th>5-10 W</th>\n",
       "      <th>10-15 W</th>\n",
       "      <th>&gt;15 W</th>\n",
       "      <th>&lt;0 E</th>\n",
       "      <th>0-5 E</th>\n",
       "      <th>5-10 E</th>\n",
       "      <th>10-15 E</th>\n",
       "      <th>&gt;15 E</th>\n",
       "    </tr>\n",
       "  </thead>\n",
       "  <tbody>\n",
       "    <tr>\n",
       "      <th>0</th>\n",
       "      <td>0.73</td>\n",
       "      <td>0.69</td>\n",
       "      <td>0.68</td>\n",
       "      <td>0.65</td>\n",
       "      <td>0.76</td>\n",
       "      <td>0.84</td>\n",
       "      <td>0.83</td>\n",
       "      <td>0.82</td>\n",
       "      <td>0.82</td>\n",
       "      <td>0.88</td>\n",
       "    </tr>\n",
       "    <tr>\n",
       "      <th>1</th>\n",
       "      <td>0.72</td>\n",
       "      <td>0.68</td>\n",
       "      <td>0.66</td>\n",
       "      <td>0.63</td>\n",
       "      <td>0.76</td>\n",
       "      <td>0.82</td>\n",
       "      <td>0.80</td>\n",
       "      <td>0.80</td>\n",
       "      <td>0.81</td>\n",
       "      <td>0.88</td>\n",
       "    </tr>\n",
       "    <tr>\n",
       "      <th>2</th>\n",
       "      <td>0.71</td>\n",
       "      <td>0.69</td>\n",
       "      <td>0.68</td>\n",
       "      <td>0.64</td>\n",
       "      <td>0.75</td>\n",
       "      <td>0.84</td>\n",
       "      <td>0.82</td>\n",
       "      <td>0.80</td>\n",
       "      <td>0.82</td>\n",
       "      <td>0.88</td>\n",
       "    </tr>\n",
       "    <tr>\n",
       "      <th>3</th>\n",
       "      <td>0.73</td>\n",
       "      <td>0.69</td>\n",
       "      <td>0.69</td>\n",
       "      <td>0.66</td>\n",
       "      <td>0.76</td>\n",
       "      <td>0.84</td>\n",
       "      <td>0.83</td>\n",
       "      <td>0.82</td>\n",
       "      <td>0.83</td>\n",
       "      <td>0.90</td>\n",
       "    </tr>\n",
       "    <tr>\n",
       "      <th>4</th>\n",
       "      <td>0.75</td>\n",
       "      <td>0.72</td>\n",
       "      <td>0.71</td>\n",
       "      <td>0.68</td>\n",
       "      <td>0.77</td>\n",
       "      <td>0.85</td>\n",
       "      <td>0.85</td>\n",
       "      <td>0.83</td>\n",
       "      <td>0.83</td>\n",
       "      <td>0.92</td>\n",
       "    </tr>\n",
       "    <tr>\n",
       "      <th>5</th>\n",
       "      <td>0.80</td>\n",
       "      <td>0.77</td>\n",
       "      <td>0.76</td>\n",
       "      <td>0.74</td>\n",
       "      <td>0.81</td>\n",
       "      <td>0.87</td>\n",
       "      <td>0.87</td>\n",
       "      <td>0.84</td>\n",
       "      <td>0.86</td>\n",
       "      <td>0.92</td>\n",
       "    </tr>\n",
       "    <tr>\n",
       "      <th>6</th>\n",
       "      <td>0.88</td>\n",
       "      <td>0.87</td>\n",
       "      <td>0.87</td>\n",
       "      <td>0.86</td>\n",
       "      <td>0.89</td>\n",
       "      <td>0.91</td>\n",
       "      <td>0.92</td>\n",
       "      <td>0.90</td>\n",
       "      <td>0.93</td>\n",
       "      <td>0.95</td>\n",
       "    </tr>\n",
       "    <tr>\n",
       "      <th>7</th>\n",
       "      <td>0.96</td>\n",
       "      <td>0.97</td>\n",
       "      <td>0.96</td>\n",
       "      <td>0.97</td>\n",
       "      <td>0.96</td>\n",
       "      <td>0.95</td>\n",
       "      <td>0.96</td>\n",
       "      <td>0.95</td>\n",
       "      <td>0.97</td>\n",
       "      <td>0.98</td>\n",
       "    </tr>\n",
       "    <tr>\n",
       "      <th>8</th>\n",
       "      <td>1.00</td>\n",
       "      <td>1.00</td>\n",
       "      <td>1.00</td>\n",
       "      <td>1.00</td>\n",
       "      <td>1.00</td>\n",
       "      <td>0.97</td>\n",
       "      <td>0.98</td>\n",
       "      <td>0.98</td>\n",
       "      <td>0.99</td>\n",
       "      <td>1.00</td>\n",
       "    </tr>\n",
       "    <tr>\n",
       "      <th>9</th>\n",
       "      <td>1.00</td>\n",
       "      <td>0.99</td>\n",
       "      <td>0.97</td>\n",
       "      <td>0.94</td>\n",
       "      <td>0.95</td>\n",
       "      <td>1.00</td>\n",
       "      <td>1.00</td>\n",
       "      <td>1.00</td>\n",
       "      <td>1.00</td>\n",
       "      <td>0.99</td>\n",
       "    </tr>\n",
       "    <tr>\n",
       "      <th>10</th>\n",
       "      <td>0.99</td>\n",
       "      <td>0.96</td>\n",
       "      <td>0.90</td>\n",
       "      <td>0.85</td>\n",
       "      <td>0.90</td>\n",
       "      <td>0.99</td>\n",
       "      <td>0.99</td>\n",
       "      <td>0.99</td>\n",
       "      <td>0.96</td>\n",
       "      <td>0.97</td>\n",
       "    </tr>\n",
       "    <tr>\n",
       "      <th>11</th>\n",
       "      <td>0.96</td>\n",
       "      <td>0.93</td>\n",
       "      <td>0.83</td>\n",
       "      <td>0.80</td>\n",
       "      <td>0.86</td>\n",
       "      <td>0.96</td>\n",
       "      <td>0.95</td>\n",
       "      <td>0.96</td>\n",
       "      <td>0.90</td>\n",
       "      <td>0.93</td>\n",
       "    </tr>\n",
       "    <tr>\n",
       "      <th>12</th>\n",
       "      <td>0.93</td>\n",
       "      <td>0.89</td>\n",
       "      <td>0.77</td>\n",
       "      <td>0.76</td>\n",
       "      <td>0.85</td>\n",
       "      <td>0.92</td>\n",
       "      <td>0.92</td>\n",
       "      <td>0.90</td>\n",
       "      <td>0.86</td>\n",
       "      <td>0.91</td>\n",
       "    </tr>\n",
       "    <tr>\n",
       "      <th>13</th>\n",
       "      <td>0.91</td>\n",
       "      <td>0.86</td>\n",
       "      <td>0.73</td>\n",
       "      <td>0.72</td>\n",
       "      <td>0.83</td>\n",
       "      <td>0.90</td>\n",
       "      <td>0.90</td>\n",
       "      <td>0.85</td>\n",
       "      <td>0.84</td>\n",
       "      <td>0.89</td>\n",
       "    </tr>\n",
       "    <tr>\n",
       "      <th>14</th>\n",
       "      <td>0.88</td>\n",
       "      <td>0.86</td>\n",
       "      <td>0.73</td>\n",
       "      <td>0.71</td>\n",
       "      <td>0.80</td>\n",
       "      <td>0.89</td>\n",
       "      <td>0.90</td>\n",
       "      <td>0.81</td>\n",
       "      <td>0.81</td>\n",
       "      <td>0.88</td>\n",
       "    </tr>\n",
       "    <tr>\n",
       "      <th>15</th>\n",
       "      <td>0.89</td>\n",
       "      <td>0.86</td>\n",
       "      <td>0.73</td>\n",
       "      <td>0.68</td>\n",
       "      <td>0.79</td>\n",
       "      <td>0.90</td>\n",
       "      <td>0.89</td>\n",
       "      <td>0.81</td>\n",
       "      <td>0.78</td>\n",
       "      <td>0.85</td>\n",
       "    </tr>\n",
       "    <tr>\n",
       "      <th>16</th>\n",
       "      <td>0.90</td>\n",
       "      <td>0.86</td>\n",
       "      <td>0.74</td>\n",
       "      <td>0.66</td>\n",
       "      <td>0.77</td>\n",
       "      <td>0.91</td>\n",
       "      <td>0.90</td>\n",
       "      <td>0.85</td>\n",
       "      <td>0.78</td>\n",
       "      <td>0.84</td>\n",
       "    </tr>\n",
       "    <tr>\n",
       "      <th>17</th>\n",
       "      <td>0.90</td>\n",
       "      <td>0.85</td>\n",
       "      <td>0.74</td>\n",
       "      <td>0.64</td>\n",
       "      <td>0.76</td>\n",
       "      <td>0.93</td>\n",
       "      <td>0.93</td>\n",
       "      <td>0.88</td>\n",
       "      <td>0.77</td>\n",
       "      <td>0.83</td>\n",
       "    </tr>\n",
       "    <tr>\n",
       "      <th>18</th>\n",
       "      <td>0.90</td>\n",
       "      <td>0.86</td>\n",
       "      <td>0.75</td>\n",
       "      <td>0.64</td>\n",
       "      <td>0.75</td>\n",
       "      <td>0.97</td>\n",
       "      <td>0.98</td>\n",
       "      <td>0.89</td>\n",
       "      <td>0.78</td>\n",
       "      <td>0.84</td>\n",
       "    </tr>\n",
       "    <tr>\n",
       "      <th>19</th>\n",
       "      <td>0.88</td>\n",
       "      <td>0.85</td>\n",
       "      <td>0.74</td>\n",
       "      <td>0.65</td>\n",
       "      <td>0.74</td>\n",
       "      <td>0.99</td>\n",
       "      <td>1.00</td>\n",
       "      <td>0.90</td>\n",
       "      <td>0.80</td>\n",
       "      <td>0.83</td>\n",
       "    </tr>\n",
       "    <tr>\n",
       "      <th>20</th>\n",
       "      <td>0.84</td>\n",
       "      <td>0.85</td>\n",
       "      <td>0.75</td>\n",
       "      <td>0.66</td>\n",
       "      <td>0.75</td>\n",
       "      <td>0.97</td>\n",
       "      <td>0.98</td>\n",
       "      <td>0.92</td>\n",
       "      <td>0.83</td>\n",
       "      <td>0.84</td>\n",
       "    </tr>\n",
       "    <tr>\n",
       "      <th>21</th>\n",
       "      <td>0.82</td>\n",
       "      <td>0.83</td>\n",
       "      <td>0.75</td>\n",
       "      <td>0.68</td>\n",
       "      <td>0.76</td>\n",
       "      <td>0.94</td>\n",
       "      <td>0.96</td>\n",
       "      <td>0.93</td>\n",
       "      <td>0.85</td>\n",
       "      <td>0.85</td>\n",
       "    </tr>\n",
       "    <tr>\n",
       "      <th>22</th>\n",
       "      <td>0.81</td>\n",
       "      <td>0.80</td>\n",
       "      <td>0.75</td>\n",
       "      <td>0.68</td>\n",
       "      <td>0.77</td>\n",
       "      <td>0.93</td>\n",
       "      <td>0.95</td>\n",
       "      <td>0.91</td>\n",
       "      <td>0.85</td>\n",
       "      <td>0.87</td>\n",
       "    </tr>\n",
       "    <tr>\n",
       "      <th>23</th>\n",
       "      <td>0.76</td>\n",
       "      <td>0.75</td>\n",
       "      <td>0.72</td>\n",
       "      <td>0.66</td>\n",
       "      <td>0.77</td>\n",
       "      <td>0.89</td>\n",
       "      <td>0.91</td>\n",
       "      <td>0.89</td>\n",
       "      <td>0.86</td>\n",
       "      <td>0.88</td>\n",
       "    </tr>\n",
       "  </tbody>\n",
       "</table>\n",
       "</div>"
      ],
      "text/plain": [
       "    <0 W  0-5 W  5-10 W  10-15 W  >15 W  <0 E  0-5 E  5-10 E  10-15 E  >15 E\n",
       "0   0.73   0.69    0.68     0.65   0.76  0.84   0.83    0.82     0.82   0.88\n",
       "1   0.72   0.68    0.66     0.63   0.76  0.82   0.80    0.80     0.81   0.88\n",
       "2   0.71   0.69    0.68     0.64   0.75  0.84   0.82    0.80     0.82   0.88\n",
       "3   0.73   0.69    0.69     0.66   0.76  0.84   0.83    0.82     0.83   0.90\n",
       "4   0.75   0.72    0.71     0.68   0.77  0.85   0.85    0.83     0.83   0.92\n",
       "5   0.80   0.77    0.76     0.74   0.81  0.87   0.87    0.84     0.86   0.92\n",
       "6   0.88   0.87    0.87     0.86   0.89  0.91   0.92    0.90     0.93   0.95\n",
       "7   0.96   0.97    0.96     0.97   0.96  0.95   0.96    0.95     0.97   0.98\n",
       "8   1.00   1.00    1.00     1.00   1.00  0.97   0.98    0.98     0.99   1.00\n",
       "9   1.00   0.99    0.97     0.94   0.95  1.00   1.00    1.00     1.00   0.99\n",
       "10  0.99   0.96    0.90     0.85   0.90  0.99   0.99    0.99     0.96   0.97\n",
       "11  0.96   0.93    0.83     0.80   0.86  0.96   0.95    0.96     0.90   0.93\n",
       "12  0.93   0.89    0.77     0.76   0.85  0.92   0.92    0.90     0.86   0.91\n",
       "13  0.91   0.86    0.73     0.72   0.83  0.90   0.90    0.85     0.84   0.89\n",
       "14  0.88   0.86    0.73     0.71   0.80  0.89   0.90    0.81     0.81   0.88\n",
       "15  0.89   0.86    0.73     0.68   0.79  0.90   0.89    0.81     0.78   0.85\n",
       "16  0.90   0.86    0.74     0.66   0.77  0.91   0.90    0.85     0.78   0.84\n",
       "17  0.90   0.85    0.74     0.64   0.76  0.93   0.93    0.88     0.77   0.83\n",
       "18  0.90   0.86    0.75     0.64   0.75  0.97   0.98    0.89     0.78   0.84\n",
       "19  0.88   0.85    0.74     0.65   0.74  0.99   1.00    0.90     0.80   0.83\n",
       "20  0.84   0.85    0.75     0.66   0.75  0.97   0.98    0.92     0.83   0.84\n",
       "21  0.82   0.83    0.75     0.68   0.76  0.94   0.96    0.93     0.85   0.85\n",
       "22  0.81   0.80    0.75     0.68   0.77  0.93   0.95    0.91     0.85   0.87\n",
       "23  0.76   0.75    0.72     0.66   0.77  0.89   0.91    0.89     0.86   0.88"
      ]
     },
     "execution_count": 43,
     "metadata": {},
     "output_type": "execute_result"
    }
   ],
   "source": [
    "usagetempheat = pd.read_csv('usageheattemp.txt', sep=\" \", header=None)\n",
    "mine = usagetempheat.drop([0,6,12,13],axis=1)\n",
    "mine.columns = ['<0 W','0-5 W','5-10 W','10-15 W','>15 W',\n",
    "               '<0 E','0-5 E','5-10 E','10-15 E','>15 E']\n",
    "isweek = [1,1,1,1,1,0,0]\n",
    "mine"
   ]
  },
  {
   "cell_type": "code",
   "execution_count": 44,
   "id": "df7201d3",
   "metadata": {},
   "outputs": [],
   "source": [
    "tempsaverage=np.array(pd.read_csv('average_temp.csv')['0'].to_list())"
   ]
  },
  {
   "cell_type": "code",
   "execution_count": 45,
   "id": "99370452",
   "metadata": {},
   "outputs": [
    {
     "data": {
      "text/plain": [
       "[<matplotlib.lines.Line2D at 0x1f913de1f70>]"
      ]
     },
     "execution_count": 45,
     "metadata": {},
     "output_type": "execute_result"
    },
    {
     "data": {
      "image/png": "[encoded data removed]",
      "text/plain": [
       "<Figure size 432x288 with 1 Axes>"
      ]
     },
     "metadata": {
      "needs_background": "light"
     },
     "output_type": "display_data"
    }
   ],
   "source": [
    "AturbSH=np.zeros(year)\n",
    "AturbHW=np.zeros(year)\n",
    "ApumpSH=np.zeros(year)\n",
    "ApumpHW=np.zeros(year)\n",
    "for h in range(year):\n",
    "    day = h // 24\n",
    "    daytype = day % 7\n",
    "    tempsav = tempsaverage[day]\n",
    "    if tempsav <0:\n",
    "        AturbSH[h] = (isweek[daytype]*mine['<0 W'][h%24] + (1-isweek[daytype])*mine['<0 E'][h%24])*usageheat[h]\n",
    "        ApumpSH[h] = (1-(isweek[daytype]*mine['<0 W'][h%24] + (1-isweek[daytype])*mine['<0 E'][h%24])*usageheat[h]) if usageheat[h]>0.01 else 0\n",
    "    if tempsav <5 and tempsav >0:\n",
    "        AturbSH[h] = (isweek[daytype]*mine['0-5 W'][h%24] + (1-isweek[daytype])*mine['0-5 E'][h%24])*usageheat[h]\n",
    "        ApumpSH[h] =(1-(isweek[daytype]*mine['0-5 W'][h%24] + (1-isweek[daytype])*mine['0-5 E'][h%24])*usageheat[h]) if usageheat[h]>0.01 else 0\n",
    "    if tempsav <10 and tempsav >5:\n",
    "        AturbSH[h] = (isweek[daytype]*mine['5-10 W'][h%24] + (1-isweek[daytype])*mine['5-10 E'][h%24])*usageheat[h]\n",
    "        ApumpSH[h] =(1-(isweek[daytype]*mine['5-10 W'][h%24] + (1-isweek[daytype])*mine['5-10 E'][h%24])*usageheat[h]) if usageheat[h]>0.01 else 0\n",
    "    if tempsav <15 and tempsav >10:\n",
    "        AturbSH[h] = (isweek[daytype]*mine['10-15 W'][h%24] + (1-isweek[daytype])*mine['10-15 E'][h%24])*usageheat[h]\n",
    "        ApumpSH[h] =(1-(isweek[daytype]*mine['10-15 W'][h%24] + (1-isweek[daytype])*mine['10-15 E'][h%24])*usageheat[h]) if usageheat[h]>0.01 else 0\n",
    "    if tempsav >15:\n",
    "        AturbSH[h] = (isweek[daytype]*mine['>15 W'][h%24] + (1-isweek[daytype])*mine['>15 E'][h%24])*usageheat[h]\n",
    "        ApumpSH[h] =(1-(isweek[daytype]*mine['>15 W'][h%24] + (1-isweek[daytype])*mine['>15 E'][h%24])*usageheat[h]) if usageheat[h]>0.01 else 0\n",
    "    AturbHW[h] = (isweek[daytype]*intradayHWweek[h%24] + (1-isweek[daytype])*intradayHWend[h%24])*(usageheat[h] if usageheat[h]>0.01 else 0)\n",
    "    ApumpHW[h] = (1-(isweek[daytype]*intradayHWweek[h%24] + (1-isweek[daytype])*intradayHWend[h%24])*usageheat[h]) if usageheat[h]>0.01 else 0\n",
    "\n",
    "plt.plot(AturbSH)\n",
    "plt.plot(ApumpSH)\n",
    "#plt.plot(AturbHW)\n",
    "#plt.plot(ApumpHW)"
   ]
  },
  {
   "cell_type": "code",
   "execution_count": 46,
   "id": "457627bc",
   "metadata": {},
   "outputs": [
    {
     "data": {
      "image/png": "[encoded data removed]",
      "text/plain": [
       "<Figure size 360x72 with 1 Axes>"
      ]
     },
     "metadata": {
      "needs_background": "light"
     },
     "output_type": "display_data"
    },
    {
     "data": {
      "image/png": "[encoded data removed]",
      "text/plain": [
       "<Figure size 360x72 with 1 Axes>"
      ]
     },
     "metadata": {
      "needs_background": "light"
     },
     "output_type": "display_data"
    },
    {
     "data": {
      "image/png": "[encoded data removed]",
      "text/plain": [
       "<Figure size 360x72 with 1 Axes>"
      ]
     },
     "metadata": {
      "needs_background": "light"
     },
     "output_type": "display_data"
    },
    {
     "data": {
      "text/plain": [
       "[11, 47042.54129596716, 4, 364]"
      ]
     },
     "execution_count": 46,
     "metadata": {},
     "output_type": "execute_result"
    }
   ],
   "source": [
    "#On aggrège les deux sources de flexibilité \n",
    "#dans le heating tertiaire\n",
    "Aturbtertiaryheat = (capaSH*AturbSH + AturbHW * capaHW)/(capaSH + capaHW)\n",
    "Apumptertiaryheat = (capaSH*ApumpSH + capaHW*ApumpHW)/(capaSH+capaHW)\n",
    "\n",
    "\n",
    "plt.figure(figsize=(5,1))\n",
    "plt.plot(Aturbtertiaryheat,label=\"Available reduction\",color='red')\n",
    "plt.plot(Apumptertiaryheat,label=\"Available increase\",color='black')\n",
    "#plt.ylabel(\"% of installed capacity\")\n",
    "plt.xlabel(\"Hours\")\n",
    "plt.ylim((0,1))\n",
    "#plt.legend(loc='upper right')\n",
    "plt.show()\n",
    "\n",
    "plt.figure(figsize=(5,1))\n",
    "plt.plot(Aturbtertiaryheat[:168],label=\"Available reduction\",color='red')\n",
    "plt.plot(Apumptertiaryheat[:168],label=\"Available increase\",color='black')\n",
    "#plt.ylabel(\"% of installed capacity\")\n",
    "plt.xlabel(\"Hours\")\n",
    "plt.ylim((0,1))\n",
    "#plt.legend(loc='upper right')\n",
    "plt.show()\n",
    "\n",
    "plt.figure(figsize=(5,1))\n",
    "plt.plot(Aturbtertiaryheat[5016:5184],label=\"Available reduction\",color='red')\n",
    "plt.plot(Apumptertiaryheat[5016:5184],label=\"Available increase\",color='black')\n",
    "#plt.ylabel(\"% of installed capacity\")\n",
    "plt.xlabel(\"Hours\")\n",
    "plt.ylim((0,1))\n",
    "#plt.legend(loc='upper right')\n",
    "plt.show()\n",
    "\n",
    "\n",
    "capatertiaryheat = capaSH + capaHW\n",
    "prix = 11 #euro/MW\n",
    "duree = 4 #h\n",
    "Nact = 364\n",
    "caractertiaryheat = [prix,capatertiaryheat,duree,Nact]\n",
    "caractertiaryheat"
   ]
  },
  {
   "cell_type": "markdown",
   "id": "ac77e8d3",
   "metadata": {},
   "source": [
    "## Residential cooling"
   ]
  },
  {
   "cell_type": "code",
   "execution_count": 47,
   "id": "ab4a416e",
   "metadata": {},
   "outputs": [
    {
     "data": {
      "text/plain": [
       "[11, 30459.80885356618, 1, 364]"
      ]
     },
     "execution_count": 47,
     "metadata": {},
     "output_type": "execute_result"
    }
   ],
   "source": [
    "nHH = 30.83 * 1e6 + 40.66*1e6 + 5.27*1e6 + 0.25*1e6 + 8.2*1e6\n",
    "appliancefreezer = rapports_pop['FR']*0.86+rapports_pop['DE']*0.68+rapports_pop['BEL']*0.62+rapports_pop['LU']*0.6+rapports_pop['NE']*0.55\n",
    "appliancerefri = rapports_pop['FR']*1+rapports_pop['DE']*1.13+rapports_pop['BEL']*1.14+rapports_pop['LU']*1+rapports_pop['NE']*1\n",
    "capfreeze=(appliancefreezer*40 + appliancerefri*300) *nHH/1e6\n",
    "applianceAC = rapports_pop['FR']*0.05+rapports_pop['DE']*0.02+rapports_pop['BEL']*0.02+rapports_pop['LU']*0.02+rapports_pop['NE']*0.04\n",
    "capAC=applianceAC * 4000*nflhAC/8760 * nHH/1e6 \n",
    "caparescool = capfreeze + capAC #MW\n",
    "prix = 11 #euro/MW\n",
    "duree = 1 #h\n",
    "Nact = 364\n",
    "caracrescool = [prix,caparescool,duree,Nact]\n",
    "caracrescool"
   ]
  },
  {
   "cell_type": "code",
   "execution_count": 48,
   "id": "e64838e3",
   "metadata": {},
   "outputs": [
    {
     "data": {
      "image/png": "[encoded data removed]",
      "text/plain": [
       "<Figure size 360x72 with 1 Axes>"
      ]
     },
     "metadata": {
      "needs_background": "light"
     },
     "output_type": "display_data"
    },
    {
     "data": {
      "image/png": "[encoded data removed]",
      "text/plain": [
       "<Figure size 360x72 with 1 Axes>"
      ]
     },
     "metadata": {
      "needs_background": "light"
     },
     "output_type": "display_data"
    },
    {
     "data": {
      "image/png": "[encoded data removed]",
      "text/plain": [
       "<Figure size 360x72 with 1 Axes>"
      ]
     },
     "metadata": {
      "needs_background": "light"
     },
     "output_type": "display_data"
    }
   ],
   "source": [
    "Aturbfreeze = np.ones(year)\n",
    "for h in range(year):\n",
    "    day=h//24\n",
    "    if colddemday[day] < 0.6*maxcolddemday:\n",
    "        Aturbfreeze[h] = 0.8\n",
    "    else:\n",
    "        Aturbfreeze[h] = 1\n",
    "\n",
    "Apumpfreeze = 1-Aturbfreeze\n",
    "Aturbrescool = (capfreeze*Aturbfreeze + capAC*np.array(AturbAC)) / caparescool\n",
    "Apumprescool = (capfreeze*Apumpfreeze + capAC*np.array(ApumpAC)) / caparescool\n",
    "plt.figure(figsize=(5,1))\n",
    "plt.plot(Aturbrescool,label=\"Available reduction\",color='red')\n",
    "plt.plot(Apumprescool,label=\"Available increase\",color='black')\n",
    "#plt.ylabel(\"% of installed capacity\")\n",
    "plt.xlabel(\"Hours\")\n",
    "plt.ylim((0,1))\n",
    "#plt.legend(loc='upper right')\n",
    "plt.show()\n",
    "plt.figure(figsize=(5,1))\n",
    "plt.plot(Aturbrescool[:168],label=\"Available reduction\",color='red')\n",
    "plt.plot(Apumprescool[:168],label=\"Available increase\",color='black')\n",
    "#plt.ylabel(\"% of installed capacity\")\n",
    "plt.xlabel(\"Hours\")\n",
    "plt.ylim((0,1))\n",
    "#plt.legend(loc='upper right')\n",
    "plt.show()\n",
    "plt.figure(figsize=(5,1))\n",
    "plt.plot(Aturbrescool[5016:5184],label=\"Available reduction\",color='red')\n",
    "plt.plot(Apumprescool[5016:5184],label=\"Available increase\",color='black')\n",
    "#plt.ylabel(\"% of installed capacity\")\n",
    "plt.xlabel(\"Hours\")\n",
    "plt.ylim((0,1))\n",
    "#plt.legend(loc='upper right')\n",
    "plt.show()"
   ]
  },
  {
   "cell_type": "markdown",
   "id": "b444f4a6",
   "metadata": {},
   "source": [
    "## Residential heating"
   ]
  },
  {
   "cell_type": "code",
   "execution_count": 49,
   "id": "4f02e685",
   "metadata": {},
   "outputs": [
    {
     "data": {
      "text/plain": [
       "[11, 7051.53666956895, 1, 364]"
      ]
     },
     "execution_count": 49,
     "metadata": {},
     "output_type": "execute_result"
    }
   ],
   "source": [
    "applianceSH = rapports_pop['FR']*0.05+rapports_pop['DE']*0.04+rapports_pop['BEL']*0.05+rapports_pop['LU']*0.05+rapports_pop['NE']*0.05\n",
    "applianceHW = rapports_pop['FR']*0.44+rapports_pop['DE']*0.11+rapports_pop['BEL']*0.26+rapports_pop['LU']*0.15+rapports_pop['NE']*0.09\n",
    "appliancepump = rapports_pop['FR']*0.6+rapports_pop['DE']*0.6+rapports_pop['BEL']*0.6+rapports_pop['LU']*0.6+rapports_pop['NE']*0.6\n",
    "nflhpump=rapports_pop['FR']*4918+rapports_pop['DE']*4877+rapports_pop['BEL']*4943+rapports_pop['LU']*5115+rapports_pop['NE']*4948\n",
    "capresSH= applianceSH * 14000*nflhSH/8760 *nHH/1e6\n",
    "capresHW=applianceHW * 2000*nflhHW/8760 *nHH/1e6\n",
    "caprespump=appliancepump * 100*nflhpump/8760 *nHH/1e6 \n",
    "caparesheat = capresSH + capresHW + caprespump #MW\n",
    "prix = 11 #euro/MW\n",
    "duree = 1 #h\n",
    "Nact = 364\n",
    "caracresheat = [prix,caparesheat,duree,Nact]\n",
    "caracresheat"
   ]
  },
  {
   "cell_type": "code",
   "execution_count": 50,
   "id": "e48c9b2f",
   "metadata": {},
   "outputs": [
    {
     "data": {
      "text/plain": [
       "[<matplotlib.lines.Line2D at 0x1f914f5f580>]"
      ]
     },
     "execution_count": 50,
     "metadata": {},
     "output_type": "execute_result"
    },
    {
     "data": {
      "image/png": "[encoded data removed]",
      "text/plain": [
       "<Figure size 432x288 with 1 Axes>"
      ]
     },
     "metadata": {
      "needs_background": "light"
     },
     "output_type": "display_data"
    }
   ],
   "source": [
    "Aturbpump = np.zeros(year)\n",
    "Apumppump = np.zeros(year)\n",
    "for h in range(year):\n",
    "    day = h // 24\n",
    "    demchal = heatdemday[day]\n",
    "    daytype = day % 7\n",
    "    tempsav = tempsaverage[day]\n",
    "    if tempsav <0:\n",
    "        mult = (isweek[daytype]*mine['<0 W'][h%24] + (1-isweek[daytype])*mine['<0 E'][h%24])\n",
    "    if tempsav <5 and tempsav >0:\n",
    "        mult = (isweek[daytype]*mine['0-5 W'][h%24] + (1-isweek[daytype])*mine['0-5 E'][h%24])\n",
    "    if tempsav <10 and tempsav >5:\n",
    "        mult = (isweek[daytype]*mine['5-10 W'][h%24] + (1-isweek[daytype])*mine['5-10 E'][h%24])\n",
    "    if tempsav <15 and tempsav >10:\n",
    "        mult = (isweek[daytype]*mine['10-15 W'][h%24] + (1-isweek[daytype])*mine['10-15 E'][h%24])\n",
    "    if tempsav >15:\n",
    "        mult = (isweek[daytype]*mine['10-15 W'][h%24] + (1-isweek[daytype])*mine['10-15 E'][h%24])\n",
    "        \n",
    "    if demchal < 0.15*maxheatdemday:\n",
    "        Aturbpump[h] = 0.25 * mult\n",
    "        Apumppump[h] = 0.25 * (1-mult)\n",
    "    if demchal >0.15*maxheatdemday and demchal < 0.6*maxheatdemday:\n",
    "        Aturbpump[h] = 1.67*demchal/maxheatdemday * mult\n",
    "        Apumppump[h] = 1.67 * demchal/maxheatdemday*(1-mult)\n",
    "    if demchal > 0.6*maxheatdemday:\n",
    "        Aturbpump[h] = 1\n",
    "\n",
    "plt.plot(Aturbpump)\n",
    "plt.plot(Apumppump)"
   ]
  },
  {
   "cell_type": "code",
   "execution_count": 51,
   "id": "fa346367",
   "metadata": {},
   "outputs": [
    {
     "data": {
      "image/png": "[encoded data removed]",
      "text/plain": [
       "<Figure size 360x72 with 1 Axes>"
      ]
     },
     "metadata": {
      "needs_background": "light"
     },
     "output_type": "display_data"
    },
    {
     "data": {
      "image/png": "[encoded data removed]",
      "text/plain": [
       "<Figure size 360x72 with 1 Axes>"
      ]
     },
     "metadata": {
      "needs_background": "light"
     },
     "output_type": "display_data"
    },
    {
     "data": {
      "image/png": "[encoded data removed]",
      "text/plain": [
       "<Figure size 360x72 with 1 Axes>"
      ]
     },
     "metadata": {
      "needs_background": "light"
     },
     "output_type": "display_data"
    }
   ],
   "source": [
    "Aturbresheat = (capresHW*AturbHW + capresSH*AturbSH + caprespump*Aturbpump) / caparesheat\n",
    "Apumpresheat = (capresHW*ApumpHW + capresSH*ApumpSH + caprespump*Apumppump) / caparesheat\n",
    "\n",
    "plt.figure(figsize=(5,1))\n",
    "plt.plot(Aturbresheat,label=\"Available reduction\",color='red')\n",
    "plt.plot(Apumpresheat,label=\"Available increase\",color='black')\n",
    "#plt.ylabel(\"% of installed capacity\")\n",
    "plt.xlabel(\"Hours\")\n",
    "plt.ylim((0,1))\n",
    "#plt.legend(loc='upper right')\n",
    "plt.show()\n",
    "plt.figure(figsize=(5,1))\n",
    "plt.plot(Aturbresheat[:168],label=\"Available reduction\",color='red')\n",
    "plt.plot(Apumpresheat[:168],label=\"Available increase\",color='black')\n",
    "#plt.ylabel(\"% of installed capacity\")\n",
    "plt.xlabel(\"Hours\")\n",
    "plt.ylim((0,1))\n",
    "#plt.legend(loc='upper right')\n",
    "plt.show()\n",
    "plt.figure(figsize=(5,1))\n",
    "plt.plot(Aturbresheat[5016:5184],label=\"Available reduction\",color='red')\n",
    "plt.plot(Apumpresheat[5016:5184],label=\"Available increase\",color='black')\n",
    "#plt.ylabel(\"% of installed capacity\")\n",
    "plt.xlabel(\"Hours\")\n",
    "plt.ylim((0,1))\n",
    "#plt.legend(loc='upper right')\n",
    "plt.show()"
   ]
  },
  {
   "cell_type": "markdown",
   "id": "0335bde9",
   "metadata": {},
   "source": [
    "# Export des données"
   ]
  },
  {
   "cell_type": "code",
   "execution_count": 52,
   "id": "846f29e0",
   "metadata": {},
   "outputs": [],
   "source": [
    "df_avail_pump_shift = pd.DataFrame({\"Tech. 0\":Apumpcement,\n",
    "                                  \"Tech. 1\":Apumppaper,\n",
    "                                  \"Tech. 2\":Apumpindcool,\n",
    "                                  \"Tech. 3\":Apumpvent,\n",
    "                                  \"Tech. 4\":Apumptertiarycool,\n",
    "                                  \"Tech. 5\":Apumptertiaryheat,\n",
    "                                  \"Tech. 6\":Apumprescool,\n",
    "                                  \"Tech. 7\":Apumpresheat\n",
    "                                 })\n",
    "df_avail_pump_shift.to_csv(\"loadshifting_pump_availability.csv\")"
   ]
  },
  {
   "cell_type": "code",
   "execution_count": 53,
   "id": "207b984a",
   "metadata": {},
   "outputs": [],
   "source": [
    "df_avail_shifting_turb = pd.DataFrame({\"Tech. 0\":Aturbcement,\n",
    "                                       \"Tech. 1\":Aturbpaper,\n",
    "                                       \"Tech. 2\":Aturbindcool,\n",
    "                                       \"Tech. 3\":Aturbvent,\n",
    "                                       \"Tech. 4\":Aturbtertiarycool,\n",
    "                                       \"Tech. 5\":Aturbtertiaryheat,\n",
    "                                       \"Tech. 6\":Aturbrescool,\n",
    "                                       \"Tech. 7\":Aturbresheat\n",
    "                                 })\n",
    "\n",
    "df_avail_shifting_turb.to_csv(\"loadshifting_turb_availability.csv\")"
   ]
  },
  {
   "cell_type": "code",
   "execution_count": 54,
   "id": "1df009d7",
   "metadata": {},
   "outputs": [
    {
     "data": {
      "text/html": [
       "<div>\n",
       "<style scoped>\n",
       "    .dataframe tbody tr th:only-of-type {\n",
       "        vertical-align: middle;\n",
       "    }\n",
       "\n",
       "    .dataframe tbody tr th {\n",
       "        vertical-align: top;\n",
       "    }\n",
       "\n",
       "    .dataframe thead th {\n",
       "        text-align: right;\n",
       "    }\n",
       "</style>\n",
       "<table border=\"1\" class=\"dataframe\">\n",
       "  <thead>\n",
       "    <tr style=\"text-align: right;\">\n",
       "      <th></th>\n",
       "      <th>PrixAct</th>\n",
       "      <th>CapaInst</th>\n",
       "      <th>Duree</th>\n",
       "      <th>NAct</th>\n",
       "    </tr>\n",
       "  </thead>\n",
       "  <tbody>\n",
       "    <tr>\n",
       "      <th>Cement</th>\n",
       "      <td>10.0</td>\n",
       "      <td>1083.393415</td>\n",
       "      <td>3.0</td>\n",
       "      <td>260.0</td>\n",
       "    </tr>\n",
       "    <tr>\n",
       "      <th>Paper and pulp</th>\n",
       "      <td>10.0</td>\n",
       "      <td>2062.316751</td>\n",
       "      <td>3.0</td>\n",
       "      <td>260.0</td>\n",
       "    </tr>\n",
       "    <tr>\n",
       "      <th>Indus cooling</th>\n",
       "      <td>16.0</td>\n",
       "      <td>3166.095890</td>\n",
       "      <td>1.0</td>\n",
       "      <td>364.0</td>\n",
       "    </tr>\n",
       "    <tr>\n",
       "      <th>Cross-tech ventilation</th>\n",
       "      <td>16.0</td>\n",
       "      <td>692.636986</td>\n",
       "      <td>1.0</td>\n",
       "      <td>364.0</td>\n",
       "    </tr>\n",
       "    <tr>\n",
       "      <th>Tertiary cooling</th>\n",
       "      <td>11.0</td>\n",
       "      <td>39753.659147</td>\n",
       "      <td>1.0</td>\n",
       "      <td>364.0</td>\n",
       "    </tr>\n",
       "    <tr>\n",
       "      <th>Tertiary heating</th>\n",
       "      <td>11.0</td>\n",
       "      <td>47042.541296</td>\n",
       "      <td>4.0</td>\n",
       "      <td>364.0</td>\n",
       "    </tr>\n",
       "    <tr>\n",
       "      <th>Residential cooling</th>\n",
       "      <td>11.0</td>\n",
       "      <td>30459.808854</td>\n",
       "      <td>1.0</td>\n",
       "      <td>364.0</td>\n",
       "    </tr>\n",
       "    <tr>\n",
       "      <th>Residential heating</th>\n",
       "      <td>11.0</td>\n",
       "      <td>7051.536670</td>\n",
       "      <td>1.0</td>\n",
       "      <td>364.0</td>\n",
       "    </tr>\n",
       "  </tbody>\n",
       "</table>\n",
       "</div>"
      ],
      "text/plain": [
       "                        PrixAct      CapaInst  Duree   NAct\n",
       "Cement                     10.0   1083.393415    3.0  260.0\n",
       "Paper and pulp             10.0   2062.316751    3.0  260.0\n",
       "Indus cooling              16.0   3166.095890    1.0  364.0\n",
       "Cross-tech ventilation     16.0    692.636986    1.0  364.0\n",
       "Tertiary cooling           11.0  39753.659147    1.0  364.0\n",
       "Tertiary heating           11.0  47042.541296    4.0  364.0\n",
       "Residential cooling        11.0  30459.808854    1.0  364.0\n",
       "Residential heating        11.0   7051.536670    1.0  364.0"
      ]
     },
     "execution_count": 54,
     "metadata": {},
     "output_type": "execute_result"
    }
   ],
   "source": [
    "df_carac_shift = pd.DataFrame({\"Cement\":caraccement,\n",
    "                             \"Paper and pulp\":caracpaper,\n",
    "                             \"Indus cooling\":caracindcool,\n",
    "                             \"Cross-tech ventilation\":caracvent,\n",
    "                             \"Tertiary cooling\":caractertiarycool,\n",
    "                             \"Tertiary heating\":caractertiaryheat,\n",
    "                            \"Residential cooling\":caracrescool,\n",
    "                             \"Residential heating\":caracresheat}, \n",
    "                             index = [\"PrixAct\",\"CapaInst\",\"Duree\",\"NAct\"])\n",
    "bon = df_carac_shift.T\n",
    "bon"
   ]
  },
  {
   "cell_type": "code",
   "execution_count": 55,
   "id": "0785b681",
   "metadata": {},
   "outputs": [],
   "source": [
    "bon.to_csv(\"carac_shifting.csv\")"
   ]
  },
  {
   "cell_type": "code",
   "execution_count": 56,
   "id": "f3aea944",
   "metadata": {},
   "outputs": [
    {
     "data": {
      "text/html": [
       "<div>\n",
       "<style scoped>\n",
       "    .dataframe tbody tr th:only-of-type {\n",
       "        vertical-align: middle;\n",
       "    }\n",
       "\n",
       "    .dataframe tbody tr th {\n",
       "        vertical-align: top;\n",
       "    }\n",
       "\n",
       "    .dataframe thead th {\n",
       "        text-align: right;\n",
       "    }\n",
       "</style>\n",
       "<table border=\"1\" class=\"dataframe\">\n",
       "  <thead>\n",
       "    <tr style=\"text-align: right;\">\n",
       "      <th></th>\n",
       "      <th>PrixAct</th>\n",
       "      <th>CapaInst</th>\n",
       "      <th>Duree</th>\n",
       "      <th>NAct</th>\n",
       "      <th>ResSize</th>\n",
       "    </tr>\n",
       "  </thead>\n",
       "  <tbody>\n",
       "    <tr>\n",
       "      <th>Cement</th>\n",
       "      <td>10.0</td>\n",
       "      <td>1083.393415</td>\n",
       "      <td>3.0</td>\n",
       "      <td>260.0</td>\n",
       "      <td>8.450469e+05</td>\n",
       "    </tr>\n",
       "    <tr>\n",
       "      <th>Paper and pulp</th>\n",
       "      <td>10.0</td>\n",
       "      <td>2062.316751</td>\n",
       "      <td>3.0</td>\n",
       "      <td>260.0</td>\n",
       "      <td>1.608607e+06</td>\n",
       "    </tr>\n",
       "    <tr>\n",
       "      <th>Indus cooling</th>\n",
       "      <td>16.0</td>\n",
       "      <td>3166.095890</td>\n",
       "      <td>1.0</td>\n",
       "      <td>364.0</td>\n",
       "      <td>1.152459e+06</td>\n",
       "    </tr>\n",
       "    <tr>\n",
       "      <th>Cross-tech ventilation</th>\n",
       "      <td>16.0</td>\n",
       "      <td>692.636986</td>\n",
       "      <td>1.0</td>\n",
       "      <td>364.0</td>\n",
       "      <td>2.521199e+05</td>\n",
       "    </tr>\n",
       "    <tr>\n",
       "      <th>Tertiary cooling</th>\n",
       "      <td>11.0</td>\n",
       "      <td>39753.659147</td>\n",
       "      <td>1.0</td>\n",
       "      <td>364.0</td>\n",
       "      <td>1.447033e+07</td>\n",
       "    </tr>\n",
       "    <tr>\n",
       "      <th>Tertiary heating</th>\n",
       "      <td>11.0</td>\n",
       "      <td>47042.541296</td>\n",
       "      <td>4.0</td>\n",
       "      <td>364.0</td>\n",
       "      <td>6.849394e+07</td>\n",
       "    </tr>\n",
       "    <tr>\n",
       "      <th>Residential cooling</th>\n",
       "      <td>11.0</td>\n",
       "      <td>30459.808854</td>\n",
       "      <td>1.0</td>\n",
       "      <td>364.0</td>\n",
       "      <td>1.108737e+07</td>\n",
       "    </tr>\n",
       "    <tr>\n",
       "      <th>Residential heating</th>\n",
       "      <td>11.0</td>\n",
       "      <td>7051.536670</td>\n",
       "      <td>1.0</td>\n",
       "      <td>364.0</td>\n",
       "      <td>2.566759e+06</td>\n",
       "    </tr>\n",
       "  </tbody>\n",
       "</table>\n",
       "</div>"
      ],
      "text/plain": [
       "                        PrixAct      CapaInst  Duree   NAct       ResSize\n",
       "Cement                     10.0   1083.393415    3.0  260.0  8.450469e+05\n",
       "Paper and pulp             10.0   2062.316751    3.0  260.0  1.608607e+06\n",
       "Indus cooling              16.0   3166.095890    1.0  364.0  1.152459e+06\n",
       "Cross-tech ventilation     16.0    692.636986    1.0  364.0  2.521199e+05\n",
       "Tertiary cooling           11.0  39753.659147    1.0  364.0  1.447033e+07\n",
       "Tertiary heating           11.0  47042.541296    4.0  364.0  6.849394e+07\n",
       "Residential cooling        11.0  30459.808854    1.0  364.0  1.108737e+07\n",
       "Residential heating        11.0   7051.536670    1.0  364.0  2.566759e+06"
      ]
     },
     "execution_count": 56,
     "metadata": {},
     "output_type": "execute_result"
    }
   ],
   "source": [
    "bon['ResSize'] = bon['NAct'] * bon['CapaInst'] * bon['Duree']\n",
    "bon"
   ]
  },
  {
   "cell_type": "code",
   "execution_count": 57,
   "id": "c3660efb",
   "metadata": {},
   "outputs": [
    {
     "data": {
      "image/png": "[encoded data removed]",
      "text/plain": [
       "<Figure size 720x360 with 1 Axes>"
      ]
     },
     "metadata": {
      "needs_background": "light"
     },
     "output_type": "display_data"
    }
   ],
   "source": [
    "total_dr_turb = np.zeros(8736)\n",
    "for i,tech in enumerate(df_carac_shift.T.index):\n",
    "    total_dr_turb+= df_carac_shift.T['CapaInst'].loc[tech] * np.array(df_avail_shifting_turb[\"Tech. %s\"%i])\n",
    "for i,tech in enumerate(df_carac_shed.T.index):\n",
    "    total_dr_turb+= df_carac_shed.T['CapaInst'].loc[tech] * np.array(df_avail_shedding[\"Tech. %s\"%i])\n",
    "\n",
    "plt.figure(figsize=(10,5))\n",
    "plt.plot(total_dr_turb/1e3)\n",
    "plt.ylabel(\"Total available load reduction capacity (GW)\")\n",
    "plt.show()"
   ]
  },
  {
   "cell_type": "code",
   "execution_count": 58,
   "id": "414843d5",
   "metadata": {},
   "outputs": [],
   "source": [
    "cmoy = []\n",
    "for i,tech in enumerate(list(bon.index)):\n",
    "    cmoy.append(np.mean(bon['CapaInst'].loc[tech] * np.array(df_avail_shifting_turb[\"Tech. %s\"%i])))"
   ]
  },
  {
   "cell_type": "code",
   "execution_count": 59,
   "id": "a5bc9788",
   "metadata": {},
   "outputs": [],
   "source": [
    "bon['CapaMoy']=cmoy"
   ]
  },
  {
   "cell_type": "code",
   "execution_count": 60,
   "id": "88944919",
   "metadata": {},
   "outputs": [
    {
     "data": {
      "text/plain": [
       "56068.87305689131"
      ]
     },
     "execution_count": 60,
     "metadata": {},
     "output_type": "execute_result"
    }
   ],
   "source": [
    "885+bon['CapaMoy'].sum()"
   ]
  },
  {
   "cell_type": "code",
   "execution_count": 61,
   "id": "26e6e40d",
   "metadata": {},
   "outputs": [
    {
     "data": {
      "text/plain": [
       "11565"
      ]
     },
     "execution_count": 61,
     "metadata": {},
     "output_type": "execute_result"
    }
   ],
   "source": [
    "135+ 0+ 18 +198 +1000 +87+ 170+ 409 +272+ 0+ 24 +302 +91 +1078+ 144+ 216+ 2095+ 332+ 498+ 100+ 2032+ 644+ 293+ 418+ 87+ 922"
   ]
  },
  {
   "cell_type": "code",
   "execution_count": 62,
   "id": "6a545e62",
   "metadata": {},
   "outputs": [
    {
     "data": {
      "text/html": [
       "<div>\n",
       "<style scoped>\n",
       "    .dataframe tbody tr th:only-of-type {\n",
       "        vertical-align: middle;\n",
       "    }\n",
       "\n",
       "    .dataframe tbody tr th {\n",
       "        vertical-align: top;\n",
       "    }\n",
       "\n",
       "    .dataframe thead th {\n",
       "        text-align: right;\n",
       "    }\n",
       "</style>\n",
       "<table border=\"1\" class=\"dataframe\">\n",
       "  <thead>\n",
       "    <tr style=\"text-align: right;\">\n",
       "      <th></th>\n",
       "      <th>PrixAct</th>\n",
       "      <th>CapaInst</th>\n",
       "      <th>Duree</th>\n",
       "      <th>NAct</th>\n",
       "      <th>ResSize</th>\n",
       "      <th>CapaMoy</th>\n",
       "    </tr>\n",
       "  </thead>\n",
       "  <tbody>\n",
       "    <tr>\n",
       "      <th>Cement</th>\n",
       "      <td>10.0</td>\n",
       "      <td>1083.393415</td>\n",
       "      <td>3.0</td>\n",
       "      <td>260.0</td>\n",
       "      <td>8.450469e+05</td>\n",
       "      <td>390.521161</td>\n",
       "    </tr>\n",
       "    <tr>\n",
       "      <th>Paper and pulp</th>\n",
       "      <td>10.0</td>\n",
       "      <td>2062.316751</td>\n",
       "      <td>3.0</td>\n",
       "      <td>260.0</td>\n",
       "      <td>1.608607e+06</td>\n",
       "      <td>1595.049267</td>\n",
       "    </tr>\n",
       "    <tr>\n",
       "      <th>Indus cooling</th>\n",
       "      <td>16.0</td>\n",
       "      <td>3166.095890</td>\n",
       "      <td>1.0</td>\n",
       "      <td>364.0</td>\n",
       "      <td>1.152459e+06</td>\n",
       "      <td>1082.883893</td>\n",
       "    </tr>\n",
       "    <tr>\n",
       "      <th>Cross-tech ventilation</th>\n",
       "      <td>16.0</td>\n",
       "      <td>692.636986</td>\n",
       "      <td>1.0</td>\n",
       "      <td>364.0</td>\n",
       "      <td>2.521199e+05</td>\n",
       "      <td>301.791830</td>\n",
       "    </tr>\n",
       "    <tr>\n",
       "      <th>Tertiary cooling</th>\n",
       "      <td>11.0</td>\n",
       "      <td>39753.659147</td>\n",
       "      <td>1.0</td>\n",
       "      <td>364.0</td>\n",
       "      <td>1.447033e+07</td>\n",
       "      <td>7962.069163</td>\n",
       "    </tr>\n",
       "    <tr>\n",
       "      <th>Tertiary heating</th>\n",
       "      <td>11.0</td>\n",
       "      <td>47042.541296</td>\n",
       "      <td>4.0</td>\n",
       "      <td>364.0</td>\n",
       "      <td>6.849394e+07</td>\n",
       "      <td>15974.208565</td>\n",
       "    </tr>\n",
       "    <tr>\n",
       "      <th>Residential cooling</th>\n",
       "      <td>11.0</td>\n",
       "      <td>30459.808854</td>\n",
       "      <td>1.0</td>\n",
       "      <td>364.0</td>\n",
       "      <td>1.108737e+07</td>\n",
       "      <td>24873.494621</td>\n",
       "    </tr>\n",
       "    <tr>\n",
       "      <th>Residential heating</th>\n",
       "      <td>11.0</td>\n",
       "      <td>7051.536670</td>\n",
       "      <td>1.0</td>\n",
       "      <td>364.0</td>\n",
       "      <td>2.566759e+06</td>\n",
       "      <td>3003.854557</td>\n",
       "    </tr>\n",
       "  </tbody>\n",
       "</table>\n",
       "</div>"
      ],
      "text/plain": [
       "                        PrixAct      CapaInst  Duree   NAct       ResSize  \\\n",
       "Cement                     10.0   1083.393415    3.0  260.0  8.450469e+05   \n",
       "Paper and pulp             10.0   2062.316751    3.0  260.0  1.608607e+06   \n",
       "Indus cooling              16.0   3166.095890    1.0  364.0  1.152459e+06   \n",
       "Cross-tech ventilation     16.0    692.636986    1.0  364.0  2.521199e+05   \n",
       "Tertiary cooling           11.0  39753.659147    1.0  364.0  1.447033e+07   \n",
       "Tertiary heating           11.0  47042.541296    4.0  364.0  6.849394e+07   \n",
       "Residential cooling        11.0  30459.808854    1.0  364.0  1.108737e+07   \n",
       "Residential heating        11.0   7051.536670    1.0  364.0  2.566759e+06   \n",
       "\n",
       "                             CapaMoy  \n",
       "Cement                    390.521161  \n",
       "Paper and pulp           1595.049267  \n",
       "Indus cooling            1082.883893  \n",
       "Cross-tech ventilation    301.791830  \n",
       "Tertiary cooling         7962.069163  \n",
       "Tertiary heating        15974.208565  \n",
       "Residential cooling     24873.494621  \n",
       "Residential heating      3003.854557  "
      ]
     },
     "execution_count": 62,
     "metadata": {},
     "output_type": "execute_result"
    }
   ],
   "source": [
    "bon"
   ]
  }
 ],
 "metadata": {
  "kernelspec": {
   "display_name": "Python 3 (ipykernel)",
   "language": "python",
   "name": "python3"
  },
  "language_info": {
   "codemirror_mode": {
    "name": "ipython",
    "version": 3
   },
   "file_extension": ".py",
   "mimetype": "text/x-python",
   "name": "python",
   "nbconvert_exporter": "python",
   "pygments_lexer": "ipython3",
   "version": "3.9.7"
  }
 },
 "nbformat": 4,
 "nbformat_minor": 5
}
